{
 "cells": [
  {
   "cell_type": "code",
   "execution_count": 1,
   "id": "5abad9d0",
   "metadata": {},
   "outputs": [],
   "source": [
    "import cv2\n",
    "import torch\n",
    "import os\n",
    "from skimage import io\n",
    "import numpy as np"
   ]
  },
  {
   "cell_type": "code",
   "execution_count": 2,
   "id": "18cb40d3",
   "metadata": {},
   "outputs": [],
   "source": [
    "test_path = \"../Datasets/test\"\n",
    "model_path = \"../Models/object_detector\"\n",
    "tests = os.listdir(test_path)"
   ]
  },
  {
   "cell_type": "code",
   "execution_count": 3,
   "id": "c0c0d169",
   "metadata": {},
   "outputs": [
    {
     "name": "stderr",
     "output_type": "stream",
     "text": [
      "Downloading: \"https://github.com/ultralytics/yolov5/archive/master.zip\" to C:\\Users\\khars/.cache\\torch\\hub\\master.zip\n",
      "YOLOv5  2021-10-2 torch 1.9.1+cu111 CUDA:0 (NVIDIA GeForce GTX 1050 Ti, 4096.0MB)\n",
      "\n",
      "Fusing layers... \n",
      "Model Summary: 224 layers, 7062001 parameters, 0 gradients, 16.4 GFLOPs\n",
      "Adding AutoShape... \n"
     ]
    }
   ],
   "source": [
    "model = torch.hub.load('ultralytics/yolov5',\n",
    "                       'custom',\n",
    "                       path=os.path.join(model_path, 'last.pt'),\n",
    "                       force_reload=True)"
   ]
  },
  {
   "cell_type": "code",
   "execution_count": 24,
   "id": "bc4d8f8a",
   "metadata": {},
   "outputs": [
    {
     "name": "stdout",
     "output_type": "stream",
     "text": [
      "../Datasets/test\\1d7ce586-2302-11ec-80ba-acde48001122.jpg\n",
      "<models.common.Detections object at 0x0000020F4ABACA30>\n"
     ]
    }
   ],
   "source": [
    "for test in tests[20:40]:\n",
    "    img_path = os.path.join(test_path, test)\n",
    "    print(img_path)\n",
    "\n",
    "    img = io.imread(img_path)\n",
    "    result = model(img)\n",
    "    print(result)\n",
    "#     print(np.squeeze(result.render()).shape)\n",
    "    io.imsave(f'../Datasets/results/{test}', np.squeeze(result.render()))\n",
    "    break"
   ]
  },
  {
   "cell_type": "code",
   "execution_count": null,
   "id": "9927dfca",
   "metadata": {},
   "outputs": [],
   "source": [
    "test_vids_path = \"../Datasets\"\n",
    "test_vids = os.listdir(test_vids_path)\n",
    "video_path = os.path.join(test_vids_path, test_vids[1])\n",
    "print()\n",
    "\n",
    "cap = cv2.VideoCapture(video_path)\n",
    "if (cap.isOpened() == False):\n",
    "    print(\"Error opening video stream or file\")\n",
    "\n",
    "while(cap.isOpened()):\n",
    "    ret, frame = cap.read()\n",
    "    if ret == True:\n",
    "        frame = cv2.resize(frame, (1300, 1000))\n",
    "        result = model(frame)\n",
    "        cv2.imshow('Frame', np.squeeze(result.render()))\n",
    "    if cv2.waitKey(25) & 0xFF == ord('q'):\n",
    "        break\n",
    "\n",
    "cap.release()\n",
    "cv2.destroyAllWindows()"
   ]
  },
  {
   "cell_type": "code",
   "execution_count": null,
   "id": "e97eeb6a",
   "metadata": {},
   "outputs": [],
   "source": []
  }
 ],
 "metadata": {
  "kernelspec": {
   "display_name": "flipkart_env",
   "language": "python",
   "name": "flipkart_env"
  },
  "language_info": {
   "codemirror_mode": {
    "name": "ipython",
    "version": 3
   },
   "file_extension": ".py",
   "mimetype": "text/x-python",
   "name": "python",
   "nbconvert_exporter": "python",
   "pygments_lexer": "ipython3",
   "version": "3.9.7"
  }
 },
 "nbformat": 4,
 "nbformat_minor": 5
}
