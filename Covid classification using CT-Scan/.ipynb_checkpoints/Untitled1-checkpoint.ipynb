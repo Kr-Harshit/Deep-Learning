{
 "cells": [
  {
   "cell_type": "code",
   "execution_count": 9,
   "metadata": {},
   "outputs": [],
   "source": [
    "import numpy as np\n",
    "import pandas as pd\n",
    "import os\n",
    "import tensorflow as tf\n",
    "from PIL import Image\n",
    "import sys\n",
    "from tqdm import tqdm\n",
    "\n",
    "from tensorflow.train import BytesList, FloatList, Int64List\n",
    "from tensorflow.train import Example, Features, Feature"
   ]
  },
  {
   "cell_type": "code",
   "execution_count": 10,
   "metadata": {},
   "outputs": [],
   "source": [
    "DATASET_PATH  = './Dataset 2/'"
   ]
  },
  {
   "cell_type": "code",
   "execution_count": 15,
   "metadata": {},
   "outputs": [
    {
     "name": "stderr",
     "output_type": "stream",
     "text": [
      "covid Reading data...: 100%|██████████████████████████████████████████████████████| 1601/1601 [00:13<00:00, 114.73it/s]\n",
      "non-covid Reading data...: 100%|██████████████████████████████████████████████████| 1626/1626 [00:14<00:00, 115.54it/s]"
     ]
    },
    {
     "name": "stdout",
     "output_type": "stream",
     "text": [
      "<class 'pandas.core.frame.DataFrame'>\n",
      "Int64Index: 3227 entries, 0 to 3226\n",
      "Data columns (total 6 columns):\n",
      " #   Column  Non-Null Count  Dtype \n",
      "---  ------  --------------  ----- \n",
      " 0   images  3227 non-null   object\n",
      " 1   label   3227 non-null   object\n",
      " 2   height  3227 non-null   object\n",
      " 3   width   3227 non-null   object\n",
      " 4   Format  3227 non-null   object\n",
      " 5   mode    3227 non-null   object\n",
      "dtypes: object(6)\n",
      "memory usage: 176.5+ KB\n"
     ]
    },
    {
     "name": "stderr",
     "output_type": "stream",
     "text": [
      "\n"
     ]
    }
   ],
   "source": [
    "# Getting data from different folders in dataset\n",
    "# with respective category and saving it in Dataframe\n",
    "#mount drive to get data\n",
    "\n",
    "\n",
    "DATA_CATEGORY = ['covid', 'non-covid']\n",
    "\n",
    "\n",
    "df = pd.DataFrame(columns=['images','label', 'height', 'width', 'Format', 'mode'])\n",
    "\n",
    "for cat in DATA_CATEGORY:\n",
    "        cat_path = os.path.join(DATASET_PATH, cat)\n",
    "        for image_file in tqdm(os.listdir(cat_path), desc=cat +' Reading data...'):\n",
    "            image_path = os.path.join(cat_path, image_file)\n",
    "            image = Image.open(image_path)\n",
    "            img_arr = np.asarray(image)\n",
    "            df.loc[len(df.index)] = [img_arr, cat, image.size[0], image.size[1], image.format, image.mode]\n",
    "\n",
    "df.info()"
   ]
  },
  {
   "cell_type": "code",
   "execution_count": 11,
   "metadata": {},
   "outputs": [],
   "source": [
    "# label = {0:0, 2:1}\n",
    "\n",
    "# train_df = pd.read_csv(DATASET_PATH + '/train_COVIDx_CT-2A.txt', delimiter=' ',  names=['file', 'label', 'xmin', 'ymin', 'xmax', 'ymax'])\n",
    "# test_df = pd.read_csv(DATASET_PATH + '/test_COVIDx_CT-2A.txt', delimiter=' ', names=['file', 'label', 'xmin', 'ymin', 'xmax', 'ymax'])\n",
    "# val_df = pd.read_csv(DATASET_PATH + '/val_COVIDx_CT-2A.txt', delimiter=' ', names=['file', 'label', 'xmin', 'ymin', 'xmax', 'ymax'])\n",
    "\n",
    "# train_df = train_df[train_df['label'] != 1]\n",
    "# train_df['label'] = train_df['label'].replace(label)\n",
    "# train_df['label'] = train_df['label'].astype('int')\n",
    "# train_df = train_df.drop(['xmin', 'ymin', 'xmax', 'ymax'], axis=1)\n",
    "\n",
    "# test_df = test_df[test_df['label'] != 1]\n",
    "# test_df['label'] = test_df['label'].replace(label)\n",
    "# test_df['label'] = test_df['label'].astype('int')\n",
    "# test_df = test_df.drop(['xmin', 'ymin', 'xmax', 'ymax'], axis=1)\n",
    "\n",
    "# val_df = val_df[val_df['label'] != 1]\n",
    "# val_df['label'] = val_df['label'].replace(label)\n",
    "# val_df['label'] = val_df['label'].astype('int')\n",
    "# val_df = val_df.drop(['xmin', 'ymin', 'xmax', 'ymax'], axis=1)"
   ]
  },
  {
   "cell_type": "code",
   "execution_count": 16,
   "metadata": {},
   "outputs": [
    {
     "data": {
      "text/html": [
       "<div>\n",
       "<style scoped>\n",
       "    .dataframe tbody tr th:only-of-type {\n",
       "        vertical-align: middle;\n",
       "    }\n",
       "\n",
       "    .dataframe tbody tr th {\n",
       "        vertical-align: top;\n",
       "    }\n",
       "\n",
       "    .dataframe thead th {\n",
       "        text-align: right;\n",
       "    }\n",
       "</style>\n",
       "<table border=\"1\" class=\"dataframe\">\n",
       "  <thead>\n",
       "    <tr style=\"text-align: right;\">\n",
       "      <th></th>\n",
       "      <th>images</th>\n",
       "      <th>label</th>\n",
       "      <th>height</th>\n",
       "      <th>width</th>\n",
       "      <th>Format</th>\n",
       "      <th>mode</th>\n",
       "    </tr>\n",
       "  </thead>\n",
       "  <tbody>\n",
       "    <tr>\n",
       "      <th>0</th>\n",
       "      <td>[[[255, 255, 255, 255], [251, 251, 251, 255], ...</td>\n",
       "      <td>1</td>\n",
       "      <td>580</td>\n",
       "      <td>335</td>\n",
       "      <td>PNG</td>\n",
       "      <td>RGBA</td>\n",
       "    </tr>\n",
       "    <tr>\n",
       "      <th>1</th>\n",
       "      <td>[[[66, 66, 66, 255], [72, 72, 72, 255], [79, 7...</td>\n",
       "      <td>1</td>\n",
       "      <td>566</td>\n",
       "      <td>332</td>\n",
       "      <td>PNG</td>\n",
       "      <td>RGBA</td>\n",
       "    </tr>\n",
       "    <tr>\n",
       "      <th>2</th>\n",
       "      <td>[[[218, 218, 218, 255], [221, 221, 221, 255], ...</td>\n",
       "      <td>1</td>\n",
       "      <td>612</td>\n",
       "      <td>366</td>\n",
       "      <td>PNG</td>\n",
       "      <td>RGBA</td>\n",
       "    </tr>\n",
       "    <tr>\n",
       "      <th>3</th>\n",
       "      <td>[[[45, 45, 45, 255], [43, 43, 43, 255], [41, 4...</td>\n",
       "      <td>1</td>\n",
       "      <td>725</td>\n",
       "      <td>551</td>\n",
       "      <td>PNG</td>\n",
       "      <td>RGBA</td>\n",
       "    </tr>\n",
       "    <tr>\n",
       "      <th>4</th>\n",
       "      <td>[[[44, 44, 44, 255], [45, 45, 45, 255], [46, 4...</td>\n",
       "      <td>1</td>\n",
       "      <td>720</td>\n",
       "      <td>541</td>\n",
       "      <td>PNG</td>\n",
       "      <td>RGBA</td>\n",
       "    </tr>\n",
       "    <tr>\n",
       "      <th>...</th>\n",
       "      <td>...</td>\n",
       "      <td>...</td>\n",
       "      <td>...</td>\n",
       "      <td>...</td>\n",
       "      <td>...</td>\n",
       "      <td>...</td>\n",
       "    </tr>\n",
       "    <tr>\n",
       "      <th>3222</th>\n",
       "      <td>[[[61, 61, 61, 255], [62, 62, 62, 255], [62, 6...</td>\n",
       "      <td>0</td>\n",
       "      <td>387</td>\n",
       "      <td>252</td>\n",
       "      <td>PNG</td>\n",
       "      <td>RGBA</td>\n",
       "    </tr>\n",
       "    <tr>\n",
       "      <th>3223</th>\n",
       "      <td>[[[65, 65, 65, 255], [65, 65, 65, 255], [63, 6...</td>\n",
       "      <td>0</td>\n",
       "      <td>398</td>\n",
       "      <td>258</td>\n",
       "      <td>PNG</td>\n",
       "      <td>RGBA</td>\n",
       "    </tr>\n",
       "    <tr>\n",
       "      <th>3224</th>\n",
       "      <td>[[[61, 61, 61, 255], [64, 64, 64, 255], [66, 6...</td>\n",
       "      <td>0</td>\n",
       "      <td>396</td>\n",
       "      <td>251</td>\n",
       "      <td>PNG</td>\n",
       "      <td>RGBA</td>\n",
       "    </tr>\n",
       "    <tr>\n",
       "      <th>3225</th>\n",
       "      <td>[[[63, 63, 63, 255], [62, 62, 62, 255], [62, 6...</td>\n",
       "      <td>0</td>\n",
       "      <td>383</td>\n",
       "      <td>249</td>\n",
       "      <td>PNG</td>\n",
       "      <td>RGBA</td>\n",
       "    </tr>\n",
       "    <tr>\n",
       "      <th>3226</th>\n",
       "      <td>[[[196, 196, 196, 255], [204, 204, 204, 255], ...</td>\n",
       "      <td>0</td>\n",
       "      <td>419</td>\n",
       "      <td>261</td>\n",
       "      <td>PNG</td>\n",
       "      <td>RGBA</td>\n",
       "    </tr>\n",
       "  </tbody>\n",
       "</table>\n",
       "<p>3227 rows × 6 columns</p>\n",
       "</div>"
      ],
      "text/plain": [
       "                                                 images  label height width  \\\n",
       "0     [[[255, 255, 255, 255], [251, 251, 251, 255], ...      1    580   335   \n",
       "1     [[[66, 66, 66, 255], [72, 72, 72, 255], [79, 7...      1    566   332   \n",
       "2     [[[218, 218, 218, 255], [221, 221, 221, 255], ...      1    612   366   \n",
       "3     [[[45, 45, 45, 255], [43, 43, 43, 255], [41, 4...      1    725   551   \n",
       "4     [[[44, 44, 44, 255], [45, 45, 45, 255], [46, 4...      1    720   541   \n",
       "...                                                 ...    ...    ...   ...   \n",
       "3222  [[[61, 61, 61, 255], [62, 62, 62, 255], [62, 6...      0    387   252   \n",
       "3223  [[[65, 65, 65, 255], [65, 65, 65, 255], [63, 6...      0    398   258   \n",
       "3224  [[[61, 61, 61, 255], [64, 64, 64, 255], [66, 6...      0    396   251   \n",
       "3225  [[[63, 63, 63, 255], [62, 62, 62, 255], [62, 6...      0    383   249   \n",
       "3226  [[[196, 196, 196, 255], [204, 204, 204, 255], ...      0    419   261   \n",
       "\n",
       "     Format  mode  \n",
       "0       PNG  RGBA  \n",
       "1       PNG  RGBA  \n",
       "2       PNG  RGBA  \n",
       "3       PNG  RGBA  \n",
       "4       PNG  RGBA  \n",
       "...     ...   ...  \n",
       "3222    PNG  RGBA  \n",
       "3223    PNG  RGBA  \n",
       "3224    PNG  RGBA  \n",
       "3225    PNG  RGBA  \n",
       "3226    PNG  RGBA  \n",
       "\n",
       "[3227 rows x 6 columns]"
      ]
     },
     "execution_count": 16,
     "metadata": {},
     "output_type": "execute_result"
    }
   ],
   "source": [
    "df['label'] = df['label'].replace({'covid':1, 'non-covid':0})\n",
    "\n",
    "df"
   ]
  },
  {
   "cell_type": "code",
   "execution_count": 17,
   "metadata": {},
   "outputs": [
    {
     "data": {
      "text/plain": [
       "array(['PNG', 'JPEG'], dtype=object)"
      ]
     },
     "execution_count": 17,
     "metadata": {},
     "output_type": "execute_result"
    }
   ],
   "source": [
    "df['Format'].unique()"
   ]
  },
  {
   "cell_type": "code",
   "execution_count": 46,
   "metadata": {},
   "outputs": [],
   "source": [
    "# def _data_path(data_directory, name):\n",
    "#     if not os.path.isdir(data_directory):\n",
    "#         os.makedirs(data_directory)\n",
    "\n",
    "#     return os.path.join(data_directory, f'{name}.tfrecords')\n",
    "\n",
    "# def _int64_feature(value):\n",
    "#     return tf.train.Feature(int64_list=tf.train.Int64List(value=[value]))\n",
    "\n",
    "# def _bytes_feature(value):\n",
    "#     return tf.train.Feature(bytes_list=tf.train.BytesList(value=[value]))\n",
    "\n",
    "# def convert_to(data_set, name, data_directory, num_shards):\n",
    "#     print(f'Processing {name} data')\n",
    "\n",
    "#     images = data_set.images\n",
    "#     labels = data_set.label\n",
    "    \n",
    "#     def _process_examples(start_idx, end_index, filename):\n",
    "#         with tf.io.TFRecordWriter(filename) as writer:\n",
    "#             for index in range(start_idx, end_index):\n",
    "#                     sys.stdout.write(f\"\\rProcessing sample {index+1} of {end_index}\")\n",
    "#                     sys.stdout.flush()\n",
    "\n",
    "# #                     image_raw = np.array(Image.open(os.path.join(DATASET_PATH, '2A_images', images[index]))).tobytes()\n",
    "#                     image_raw = images[index].tobytes()\n",
    "#                     example = tf.train.Example(features=tf.train.Features(feature={\n",
    "#                         'class': _int64_feature(int(labels[index])),\n",
    "#                         'image': _bytes_feature(image_raw)\n",
    "#                     }))\n",
    "#                     #print(example)\n",
    "#                     writer.write(example.SerializeToString())\n",
    "    \n",
    "#     if num_shards == 1:\n",
    "#         _process_examples(0, len(data_set), _data_path(data_directory, name))\n",
    "#     else:\n",
    "#         total_examples = len(data_set)\n",
    "#         samples_per_shard = total_examples // num_shards\n",
    "\n",
    "#         for shard in range(num_shards):\n",
    "#             start_index = shard * samples_per_shard\n",
    "#             end_index = start_index + samples_per_shard\n",
    "#             _process_examples(start_index, end_index, _data_path(data_directory, f'{name}-{shard+1}'))\n",
    "\n",
    "#     print()\n",
    "    \n",
    "    \n",
    "# def convert_to_tf_record(data_directory):  \n",
    "# #     convert_to(train_df, 'train', data_directory, num_shards=8)\n",
    "# #     convert_to(val_df, 'validation', data_directory, num_shards=1)\n",
    "# #     convert_to(test_df, 'test', data_directory, 1)\n",
    "#     convert_to(df, 'train', data_directory, 8)"
   ]
  },
  {
   "cell_type": "code",
   "execution_count": null,
   "metadata": {},
   "outputs": [],
   "source": [
    "def _int64_feature(value):\n",
    "    return tf.train.Feature(int64_list=tf.train.Int64List(value=[value]))\n",
    "\n",
    "def _bytes_feature(value):\n",
    "    return tf.train.Feature(bytes_list=tf.train.BytesList(value=[value]))\n",
    "\n",
    "def get_example_object(data_record):\n",
    "    \n",
    "    # Create a dictionary with above lists individually wrapped in Feature\n",
    "    feature_key_value_pair = {\n",
    "        'image': _bytes_feature(data_record['images'].tobytes()),\n",
    "        'label':_int64_feature(int(data_record['label']))\n",
    "    }\n",
    "    \n",
    "    features = tf.train.Features(feature = feature_key_value_pair)\n",
    "    example = tf.train.Example(features = features)\n",
    "    print(example)\n",
    "    return example\n",
    "\n",
    "def write_file(filename, save_dir, dataset):\n",
    "    with tf.python_io.TFRecordWriter(os.path.join(save_dir, filename+'.tfrecord')) as tfwriter:\n",
    "        for i, data_record in dataset.iterrows():\n",
    "            example = get_example_object(data_record)\n",
    "            tfwriter.write(example.SerializeToString()\n",
    "\n",
    "def convert_to(dataset, save_dir, filename, shards=8):\n",
    "    files = len(dataset) // shards:\n",
    "    for idx in files:\n",
    "        write_file(filename+'-'+str(idx), )"
   ]
  },
  {
   "cell_type": "code",
   "execution_count": 47,
   "metadata": {},
   "outputs": [
    {
     "name": "stdout",
     "output_type": "stream",
     "text": [
      "Processing train data\n",
      "Processing sample 3224 of 3224\n"
     ]
    }
   ],
   "source": [
    "convert_to_tf_record('TF_DATASET_2')"
   ]
  },
  {
   "cell_type": "code",
   "execution_count": 41,
   "metadata": {},
   "outputs": [],
   "source": [
    "def decode_fn(record_bytes):\n",
    "  return tf.io.parse_single_example(\n",
    "      # Data\n",
    "      record_bytes,\n",
    "\n",
    "      # Schema\"\n",
    "      {\"class\": tf.io.FixedLenFeature([], dtype=tf.int64),\n",
    "       \"image\": tf.io.FixedLenFeature([], dtype=tf.string)}\n",
    "  )"
   ]
  },
  {
   "cell_type": "code",
   "execution_count": 43,
   "metadata": {},
   "outputs": [
    {
     "name": "stdout",
     "output_type": "stream",
     "text": [
      "2\n"
     ]
    }
   ],
   "source": [
    "import tensorflow as tf \n",
    "import glob\n",
    "\n",
    "for batch in tf.data.TFRecordDataset('./TF_DATASET_2/train-1.tfrecords').map(decode_fn):\n",
    "    print(len(batch))\n",
    "    break"
   ]
  },
  {
   "cell_type": "code",
   "execution_count": 28,
   "metadata": {},
   "outputs": [
    {
     "ename": "AttributeError",
     "evalue": "module 'tensorflow._api.v2.io' has no attribute 'tf_record_iterator'",
     "output_type": "error",
     "traceback": [
      "\u001b[1;31m---------------------------------------------------------------------------\u001b[0m",
      "\u001b[1;31mAttributeError\u001b[0m                            Traceback (most recent call last)",
      "\u001b[1;32m<ipython-input-28-6c05a7afc6c6>\u001b[0m in \u001b[0;36m<module>\u001b[1;34m\u001b[0m\n\u001b[0;32m      1\u001b[0m \u001b[1;32mimport\u001b[0m \u001b[0mtensorflow\u001b[0m \u001b[1;32mas\u001b[0m \u001b[0mtf\u001b[0m\u001b[1;33m\u001b[0m\u001b[1;33m\u001b[0m\u001b[0m\n\u001b[0;32m      2\u001b[0m \u001b[1;33m\u001b[0m\u001b[0m\n\u001b[1;32m----> 3\u001b[1;33m \u001b[1;32mfor\u001b[0m \u001b[0mexample\u001b[0m \u001b[1;32min\u001b[0m \u001b[0mtf\u001b[0m\u001b[1;33m.\u001b[0m\u001b[0mio\u001b[0m\u001b[1;33m.\u001b[0m\u001b[0mtf_record_iterator\u001b[0m\u001b[1;33m(\u001b[0m\u001b[1;34m\"./TF_DATASET_2/train-1.tfrecord\"\u001b[0m\u001b[1;33m)\u001b[0m\u001b[1;33m:\u001b[0m\u001b[1;33m\u001b[0m\u001b[1;33m\u001b[0m\u001b[0m\n\u001b[0m\u001b[0;32m      4\u001b[0m     \u001b[0mprint\u001b[0m\u001b[1;33m(\u001b[0m\u001b[0mtf\u001b[0m\u001b[1;33m.\u001b[0m\u001b[0mtrain\u001b[0m\u001b[1;33m.\u001b[0m\u001b[0mExample\u001b[0m\u001b[1;33m.\u001b[0m\u001b[0mFromString\u001b[0m\u001b[1;33m(\u001b[0m\u001b[0mexample\u001b[0m\u001b[1;33m)\u001b[0m\u001b[1;33m)\u001b[0m\u001b[1;33m\u001b[0m\u001b[1;33m\u001b[0m\u001b[0m\n",
      "\u001b[1;31mAttributeError\u001b[0m: module 'tensorflow._api.v2.io' has no attribute 'tf_record_iterator'"
     ]
    }
   ],
   "source": [
    "import tensorflow as tf\n",
    "\n",
    "for example in (\"./TF_DATASET_2/train-1.tfrecord\"):\n",
    "    print(tf.train.Example.FromString(example))"
   ]
  },
  {
   "cell_type": "code",
   "execution_count": null,
   "metadata": {},
   "outputs": [],
   "source": []
  }
 ],
 "metadata": {
  "kernelspec": {
   "display_name": "Python 3",
   "language": "python",
   "name": "python3"
  }
 },
 "nbformat": 4,
 "nbformat_minor": 4
}
